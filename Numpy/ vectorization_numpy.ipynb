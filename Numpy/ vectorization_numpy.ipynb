{
 "cells": [
  {
   "cell_type": "code",
   "execution_count": 7,
   "metadata": {},
   "outputs": [],
   "source": [
    "#Example 1\n",
    "import time \n",
    "import numpy \n",
    "import array "
   ]
  },
  {
   "cell_type": "code",
   "execution_count": 8,
   "metadata": {},
   "outputs": [],
   "source": [
    "a = array.array('i') \n",
    "for i in range(200): \n",
    "    a.append(i); "
   ]
  },
  {
   "cell_type": "code",
   "execution_count": 9,
   "metadata": {},
   "outputs": [],
   "source": [
    "b = array.array('i') \n",
    "for i in range(200, 400): \n",
    "    b.append(i) "
   ]
  },
  {
   "cell_type": "code",
   "execution_count": 10,
   "metadata": {},
   "outputs": [],
   "source": [
    "tic = time.process_time() \n",
    "outer_product = numpy.zeros((200, 200)) \n",
    "  \n",
    "for i in range(len(a)): \n",
    "   for j in range(len(b)): \n",
    "      outer_product[i][j]= a[i]*b[j] \n",
    "  \n",
    "toc = time.process_time() "
   ]
  },
  {
   "cell_type": "code",
   "execution_count": 11,
   "metadata": {},
   "outputs": [
    {
     "name": "stdout",
     "output_type": "stream",
     "text": [
      "outer_product = [[    0.     0.     0. ...     0.     0.     0.]\n",
      " [  200.   201.   202. ...   397.   398.   399.]\n",
      " [  400.   402.   404. ...   794.   796.   798.]\n",
      " ...\n",
      " [39400. 39597. 39794. ... 78209. 78406. 78603.]\n",
      " [39600. 39798. 39996. ... 78606. 78804. 79002.]\n",
      " [39800. 39999. 40198. ... 79003. 79202. 79401.]]\n",
      "Computation time = 46.875ms\n"
     ]
    }
   ],
   "source": [
    "print(\"outer_product = \"+ str(outer_product)); \n",
    "print(\"Computation time = \"+str(1000*(toc - tic ))+\"ms\") \n",
    "   \n",
    "n_tic = time.process_time() \n",
    "outer_product = numpy.outer(a, b) \n",
    "n_toc = time.process_time() "
   ]
  },
  {
   "cell_type": "code",
   "execution_count": 12,
   "metadata": {},
   "outputs": [
    {
     "name": "stdout",
     "output_type": "stream",
     "text": [
      "outer_product = [[    0     0     0 ...     0     0     0]\n",
      " [  200   201   202 ...   397   398   399]\n",
      " [  400   402   404 ...   794   796   798]\n",
      " ...\n",
      " [39400 39597 39794 ... 78209 78406 78603]\n",
      " [39600 39798 39996 ... 78606 78804 79002]\n",
      " [39800 39999 40198 ... 79003 79202 79401]]\n",
      "\n",
      "Computation time = 0.0ms\n"
     ]
    }
   ],
   "source": [
    "print(\"outer_product = \"+str(outer_product)); \n",
    "print(\"\\nComputation time = \"+str(1000*(n_toc - n_tic ))+\"ms\") "
   ]
  },
  {
   "cell_type": "code",
   "execution_count": 30,
   "metadata": {},
   "outputs": [],
   "source": [
    "#Example 2\n",
    "import numpy as np\n",
    "import time"
   ]
  },
  {
   "cell_type": "code",
   "execution_count": 31,
   "metadata": {},
   "outputs": [],
   "source": [
    "a = np.arange(10000000)\n",
    "b = np.arange(10000000)"
   ]
  },
  {
   "cell_type": "code",
   "execution_count": 38,
   "metadata": {},
   "outputs": [
    {
     "name": "stderr",
     "output_type": "stream",
     "text": [
      "C:\\Users\\AMD62018\\anaconda3\\lib\\site-packages\\ipykernel_launcher.py:6: RuntimeWarning: overflow encountered in long_scalars\n",
      "  \n"
     ]
    },
    {
     "name": "stdout",
     "output_type": "stream",
     "text": [
      "python_dot_product = -1039031360\n",
      "Time = 43546.875ms\n",
      "\n"
     ]
    }
   ],
   "source": [
    "# pure Python outer product implementation\n",
    "tic = time.process_time()\n",
    "\n",
    "dot_product = 0\n",
    "for i in range(len(a)):\n",
    "    dot_product += a[i] * b[i]\n",
    "\n",
    "toc = time.process_time()\n",
    "\n",
    "print(\"python_dot_product = \"+ str(dot_product))\n",
    "print(\"Time = \"+str(1000*(toc - tic ))+\"ms\\n\")"
   ]
  },
  {
   "cell_type": "code",
   "execution_count": 39,
   "metadata": {},
   "outputs": [
    {
     "name": "stdout",
     "output_type": "stream",
     "text": [
      "numpy_dot_product = -1039031360\n",
      "Time = 15.625ms\n"
     ]
    }
   ],
   "source": [
    "n_tic = time.process_time()\n",
    "dot_product = np.dot(a, b)\n",
    "n_toc = time.process_time()\n",
    "print(\"numpy_dot_product = \"+str(dot_product))\n",
    "print(\"Time = \"+str(1000*(n_toc - n_tic ))+\"ms\")"
   ]
  }
 ],
 "metadata": {
  "kernelspec": {
   "display_name": "Python 3",
   "language": "python",
   "name": "python3"
  },
  "language_info": {
   "codemirror_mode": {
    "name": "ipython",
    "version": 3
   },
   "file_extension": ".py",
   "mimetype": "text/x-python",
   "name": "python",
   "nbconvert_exporter": "python",
   "pygments_lexer": "ipython3",
   "version": "3.7.6"
  }
 },
 "nbformat": 4,
 "nbformat_minor": 4
}
