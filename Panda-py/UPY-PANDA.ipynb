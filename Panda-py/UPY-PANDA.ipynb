{
 "cells": [
  {
   "cell_type": "code",
   "execution_count": 81,
   "metadata": {},
   "outputs": [
    {
     "name": "stdout",
     "output_type": "stream",
     "text": [
      "1.0.1\n"
     ]
    }
   ],
   "source": [
    "# Step 1 - Import the necessary libraries\n",
    "import numpy as np\n",
    "import pandas as pd\n",
    "print(pd.__version__)\n"
   ]
  },
  {
   "cell_type": "code",
   "execution_count": 82,
   "metadata": {},
   "outputs": [],
   "source": [
    "# Step 2 - Create the 3 DataFrames based on the following raw data\n",
    "raw_data_1 = {'subject': ['Human', 'English', 'Programation', 'Computer A', 'Math'],\n",
    "        'first_name': ['Alejandro', 'Juan', 'Adriana', 'Efrain', 'Augusto'], \n",
    "        'last_name': ['Medina', 'Gabriel', 'Uc', 'Matu', 'Noh']}\n",
    "\n",
    "raw_data_2 = {'subject': ['Statistics', 'Human', 'English', 'Programation', 'Computer A'],\n",
    "        'first_name': ['Benjamin', 'Gabriel', 'Pedro', 'Emmanuel', 'Sahid'], \n",
    "        'last_name': ['Barona', 'Martin', 'Pech', 'Hurtado', 'Limon']}\n",
    "\n",
    "raw_data_3 = {'subject': ['Statistics', 'Human', 'English', 'Programation', 'Computer A', 'Math',\n",
    "                             'Trigonometry', 'Physic', 'Data', '0-0'],\n",
    "        'id': [1909119, 1909127, 1909017, 1909119, 1909100, 1909182, 1909101, 1909098, \n",
    "                    1909109, 1909118]}\n"
   ]
  },
  {
   "cell_type": "code",
   "execution_count": 83,
   "metadata": {},
   "outputs": [],
   "source": [
    "# Step 3 - Assign each to a variable called data1, data2, data3\n",
    "data1 = pd.DataFrame(raw_data_1, columns = ['subject', 'first_name', 'last_name'])\n",
    "data2 = pd.DataFrame(raw_data_2, columns = ['subject', 'first_name', 'last_name'])\n",
    "data3 = pd.DataFrame(raw_data_3, columns = ['subject','id'])"
   ]
  },
  {
   "cell_type": "code",
   "execution_count": 84,
   "metadata": {},
   "outputs": [],
   "source": [
    "# Step 4 - Join the two dataframes along rows and assign all_data\n",
    "all_data = pd.concat([data1, data2])"
   ]
  },
  {
   "cell_type": "code",
   "execution_count": 85,
   "metadata": {},
   "outputs": [],
   "source": [
    "# Step 5 - Join the two dataframes along columns and assing to all_data_col\n",
    "all_data_col = pd.concat([data1, data2], axis = 1)"
   ]
  },
  {
   "cell_type": "code",
   "execution_count": 86,
   "metadata": {},
   "outputs": [
    {
     "data": {
      "text/html": [
       "<div>\n",
       "<style scoped>\n",
       "    .dataframe tbody tr th:only-of-type {\n",
       "        vertical-align: middle;\n",
       "    }\n",
       "\n",
       "    .dataframe tbody tr th {\n",
       "        vertical-align: top;\n",
       "    }\n",
       "\n",
       "    .dataframe thead th {\n",
       "        text-align: right;\n",
       "    }\n",
       "</style>\n",
       "<table border=\"1\" class=\"dataframe\">\n",
       "  <thead>\n",
       "    <tr style=\"text-align: right;\">\n",
       "      <th></th>\n",
       "      <th>subject</th>\n",
       "      <th>first_name</th>\n",
       "      <th>last_name</th>\n",
       "      <th>id</th>\n",
       "    </tr>\n",
       "  </thead>\n",
       "  <tbody>\n",
       "    <tr>\n",
       "      <th>0</th>\n",
       "      <td>Human</td>\n",
       "      <td>Alejandro</td>\n",
       "      <td>Medina</td>\n",
       "      <td>1909127</td>\n",
       "    </tr>\n",
       "    <tr>\n",
       "      <th>1</th>\n",
       "      <td>Human</td>\n",
       "      <td>Gabriel</td>\n",
       "      <td>Martin</td>\n",
       "      <td>1909127</td>\n",
       "    </tr>\n",
       "    <tr>\n",
       "      <th>2</th>\n",
       "      <td>English</td>\n",
       "      <td>Juan</td>\n",
       "      <td>Gabriel</td>\n",
       "      <td>1909017</td>\n",
       "    </tr>\n",
       "    <tr>\n",
       "      <th>3</th>\n",
       "      <td>English</td>\n",
       "      <td>Pedro</td>\n",
       "      <td>Pech</td>\n",
       "      <td>1909017</td>\n",
       "    </tr>\n",
       "    <tr>\n",
       "      <th>4</th>\n",
       "      <td>Programation</td>\n",
       "      <td>Adriana</td>\n",
       "      <td>Uc</td>\n",
       "      <td>1909119</td>\n",
       "    </tr>\n",
       "    <tr>\n",
       "      <th>5</th>\n",
       "      <td>Programation</td>\n",
       "      <td>Emmanuel</td>\n",
       "      <td>Hurtado</td>\n",
       "      <td>1909119</td>\n",
       "    </tr>\n",
       "    <tr>\n",
       "      <th>6</th>\n",
       "      <td>Computer A</td>\n",
       "      <td>Efrain</td>\n",
       "      <td>Matu</td>\n",
       "      <td>1909100</td>\n",
       "    </tr>\n",
       "    <tr>\n",
       "      <th>7</th>\n",
       "      <td>Computer A</td>\n",
       "      <td>Sahid</td>\n",
       "      <td>Limon</td>\n",
       "      <td>1909100</td>\n",
       "    </tr>\n",
       "    <tr>\n",
       "      <th>8</th>\n",
       "      <td>Math</td>\n",
       "      <td>Augusto</td>\n",
       "      <td>Noh</td>\n",
       "      <td>1909182</td>\n",
       "    </tr>\n",
       "    <tr>\n",
       "      <th>9</th>\n",
       "      <td>Statistics</td>\n",
       "      <td>Benjamin</td>\n",
       "      <td>Barona</td>\n",
       "      <td>1909119</td>\n",
       "    </tr>\n",
       "  </tbody>\n",
       "</table>\n",
       "</div>"
      ],
      "text/plain": [
       "        subject first_name last_name       id\n",
       "0         Human  Alejandro    Medina  1909127\n",
       "1         Human    Gabriel    Martin  1909127\n",
       "2       English       Juan   Gabriel  1909017\n",
       "3       English      Pedro      Pech  1909017\n",
       "4  Programation    Adriana        Uc  1909119\n",
       "5  Programation   Emmanuel   Hurtado  1909119\n",
       "6    Computer A     Efrain      Matu  1909100\n",
       "7    Computer A      Sahid     Limon  1909100\n",
       "8          Math    Augusto       Noh  1909182\n",
       "9    Statistics   Benjamin    Barona  1909119"
      ]
     },
     "execution_count": 86,
     "metadata": {},
     "output_type": "execute_result"
    }
   ],
   "source": [
    "# Step 6 - Merge all_data and data3 along the subject value\n",
    "pd.merge(all_data, data3, on='subject')"
   ]
  },
  {
   "cell_type": "code",
   "execution_count": 87,
   "metadata": {},
   "outputs": [
    {
     "data": {
      "text/html": [
       "<div>\n",
       "<style scoped>\n",
       "    .dataframe tbody tr th:only-of-type {\n",
       "        vertical-align: middle;\n",
       "    }\n",
       "\n",
       "    .dataframe tbody tr th {\n",
       "        vertical-align: top;\n",
       "    }\n",
       "\n",
       "    .dataframe thead th {\n",
       "        text-align: right;\n",
       "    }\n",
       "</style>\n",
       "<table border=\"1\" class=\"dataframe\">\n",
       "  <thead>\n",
       "    <tr style=\"text-align: right;\">\n",
       "      <th></th>\n",
       "      <th>subject</th>\n",
       "      <th>first_name_x</th>\n",
       "      <th>last_name_x</th>\n",
       "      <th>first_name_y</th>\n",
       "      <th>last_name_y</th>\n",
       "    </tr>\n",
       "  </thead>\n",
       "  <tbody>\n",
       "    <tr>\n",
       "      <th>0</th>\n",
       "      <td>Human</td>\n",
       "      <td>Alejandro</td>\n",
       "      <td>Medina</td>\n",
       "      <td>Gabriel</td>\n",
       "      <td>Martin</td>\n",
       "    </tr>\n",
       "    <tr>\n",
       "      <th>1</th>\n",
       "      <td>English</td>\n",
       "      <td>Juan</td>\n",
       "      <td>Gabriel</td>\n",
       "      <td>Pedro</td>\n",
       "      <td>Pech</td>\n",
       "    </tr>\n",
       "    <tr>\n",
       "      <th>2</th>\n",
       "      <td>Programation</td>\n",
       "      <td>Adriana</td>\n",
       "      <td>Uc</td>\n",
       "      <td>Emmanuel</td>\n",
       "      <td>Hurtado</td>\n",
       "    </tr>\n",
       "    <tr>\n",
       "      <th>3</th>\n",
       "      <td>Computer A</td>\n",
       "      <td>Efrain</td>\n",
       "      <td>Matu</td>\n",
       "      <td>Sahid</td>\n",
       "      <td>Limon</td>\n",
       "    </tr>\n",
       "    <tr>\n",
       "      <th>4</th>\n",
       "      <td>Math</td>\n",
       "      <td>Augusto</td>\n",
       "      <td>Noh</td>\n",
       "      <td>NaN</td>\n",
       "      <td>NaN</td>\n",
       "    </tr>\n",
       "    <tr>\n",
       "      <th>5</th>\n",
       "      <td>Statistics</td>\n",
       "      <td>NaN</td>\n",
       "      <td>NaN</td>\n",
       "      <td>Benjamin</td>\n",
       "      <td>Barona</td>\n",
       "    </tr>\n",
       "  </tbody>\n",
       "</table>\n",
       "</div>"
      ],
      "text/plain": [
       "        subject first_name_x last_name_x first_name_y last_name_y\n",
       "0         Human    Alejandro      Medina      Gabriel      Martin\n",
       "1       English         Juan     Gabriel        Pedro        Pech\n",
       "2  Programation      Adriana          Uc     Emmanuel     Hurtado\n",
       "3    Computer A       Efrain        Matu        Sahid       Limon\n",
       "4          Math      Augusto         Noh          NaN         NaN\n",
       "5    Statistics          NaN         NaN     Benjamin      Barona"
      ]
     },
     "execution_count": 87,
     "metadata": {},
     "output_type": "execute_result"
    }
   ],
   "source": [
    "# Step 7 - Merge all values in data1 and data2, with matching records from both sides where available.\n",
    "pd.merge(data1, data2, on='subject', how='outer')"
   ]
  },
  {
   "cell_type": "code",
   "execution_count": null,
   "metadata": {},
   "outputs": [],
   "source": []
  }
 ],
 "metadata": {
  "kernelspec": {
   "display_name": "Python 3",
   "language": "python",
   "name": "python3"
  },
  "language_info": {
   "codemirror_mode": {
    "name": "ipython",
    "version": 3
   },
   "file_extension": ".py",
   "mimetype": "text/x-python",
   "name": "python",
   "nbconvert_exporter": "python",
   "pygments_lexer": "ipython3",
   "version": "3.7.6"
  }
 },
 "nbformat": 4,
 "nbformat_minor": 4
}
